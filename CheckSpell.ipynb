{
 "cells": [
  {
   "cell_type": "code",
   "execution_count": 1,
   "metadata": {},
   "outputs": [
    {
     "output_type": "execute_result",
     "data": {
      "text/plain": "'\\npython based spell checker to find misspelt words and give best matching suggestions\\n'"
     },
     "metadata": {},
     "execution_count": 1
    }
   ],
   "source": [
    "'''\n",
    "python based spell checker to find misspelt words and give best matching suggestions\n",
    "'''"
   ]
  },
  {
   "cell_type": "code",
   "execution_count": 2,
   "metadata": {},
   "outputs": [],
   "source": [
    "import string\n",
    "import argparse\n",
    "import difflib"
   ]
  },
  {
   "cell_type": "code",
   "execution_count": 4,
   "metadata": {},
   "outputs": [],
   "source": [
    "\n",
    "File = open('Spellchecker/WordsList.txt', 'r')\n",
    "WordsList = []\n",
    "for line in File:\n",
    " stripped_line = line. strip()\n",
    " WordsList. append(stripped_line)\n",
    "\n",
    "File.close()"
   ]
  },
  {
   "cell_type": "code",
   "execution_count": 5,
   "metadata": {},
   "outputs": [
    {
     "output_type": "stream",
     "name": "stdout",
     "text": "true\n"
    }
   ],
   "source": [
    "# print(WordsList)\n",
    "if 'and' in WordsList:\n",
    " print(\"true\")\n",
    "# string=None"
   ]
  },
  {
   "cell_type": "code",
   "execution_count": 6,
   "metadata": {},
   "outputs": [],
   "source": [
    "def show_suggestions(autoreplace,words_to_search) :\n",
    "    if(not autoreplace) :\n",
    "     words_to_search=words_to_search.split(\" \")\n",
    "    for word in words_to_search:\n",
    "     if word not in WordsList:\n",
    "      suggestedwords=difflib.get_close_matches(word, WordsList)\n",
    "      print(\"(Wrong word -> \"+word+\") (suggested Words->\"+\")\")\n",
    "      print(suggestedwords)"
   ]
  },
  {
   "cell_type": "code",
   "execution_count": 58,
   "metadata": {},
   "outputs": [],
   "source": [
    "def ReplaceSuggestionsFile(filename):\n",
    "    file = open(filename, 'r')\n",
    "    pe = list(file.read().split())\n",
    "    print(pe)\n",
    "    # if(not autoreplace):\n",
    "    r=[word.strip(string.punctuation) for word in pe]\n",
    "    print(r)\n",
    "    \n",
    "\n",
    "\n",
    "    fout = open(\"out4.txt\", \"wt\")\n",
    "\n",
    "# for line in fin:\n",
    "\t#read replace the string and write to output file\n",
    "\t# fout.write(line.replace('pyton', 'python'))\n",
    "#close input and output files\n",
    "# fin.close()\n",
    "    # r=[word.strip(string.punctuation) for word in pe]\n",
    "    data = file.read()\n",
    "    for word in pe:\n",
    "     \n",
    "     if word not in WordsList:\n",
    "      suggestedwords=difflib.get_close_matches(word, WordsList)\n",
    "      print(\"(Wrong word -> \"+word+\") (suggested Words->\"+\")\")\n",
    "      print(suggestedwords)\n",
    "      if(len(suggestedwords)>0):\n",
    "       print(\"replacing\")\n",
    "       \n",
    "       data = data.replace(word, suggestedwords[0])\n",
    "    #    file.read().replace(word,suggestedwords[0])\n",
    "    fout.write(data)\n",
    "    fout.close()\n",
    "    print(data)\n",
    "    # print(fout.read())"
   ]
  },
  {
   "cell_type": "code",
   "execution_count": 42,
   "metadata": {},
   "outputs": [
    {
     "output_type": "stream",
     "name": "stdout",
     "text": "dfgb\n[]\n"
    }
   ],
   "source": [
    "filename='Spellchecker/Test.txt'\n",
    "file = open(filename, 'r')\n",
    "print(\"dfgb\")\n",
    "file.read().replace(\"hey\",\"suggestedwords[0]\")\n",
    "print(file.readlines())\n",
    "\n",
    "# reading_file = open(\"sample.txt\", \"r\")\n",
    "\n",
    "new_file_content = \"\"\n",
    "for line in file:\n",
    "  stripped_line = line.strip()\n",
    "  print(stripped_line)\n",
    "  new_line = stripped_line.replace(\"car\", \"new string\")\n",
    "  new_file_content += new_line +\"\\n\"\n",
    "  print(new_file_content)\n",
    "file.close()\n"
   ]
  },
  {
   "cell_type": "code",
   "execution_count": null,
   "metadata": {},
   "outputs": [],
   "source": [
    "\n",
    "writing_file = open(\"Test.txt\", \"w\")\n",
    "writing_file.write(new_file_content)\n",
    "writing_file.close()"
   ]
  },
  {
   "cell_type": "code",
   "execution_count": 49,
   "metadata": {},
   "outputs": [
    {
     "output_type": "stream",
     "name": "stdout",
     "text": "['get de pyton']\n"
    }
   ],
   "source": [
    "filename='Spellchecker/Test.txt'\n",
    "file = open(filename, 'r')\n",
    "print(file.readlines())"
   ]
  },
  {
   "cell_type": "code",
   "execution_count": 59,
   "metadata": {},
   "outputs": [
    {
     "output_type": "stream",
     "name": "stdout",
     "text": "['get', 'de', 'pyton']\n['get', 'de', 'pyton']\n(Wrong word -> pyton) (suggested Words->)\n['python', 'phyton', 'pylon']\nreplacing\n\n"
    }
   ],
   "source": [
    "    filename='Spellchecker/Test.txt'\n",
    "    autoreplace='fe'\n",
    "    # string=args['text']\n",
    "    # autoreplace=args['replace']\n",
    "    if(filename is not None):\n",
    "      ReplaceSuggestionsFile(filename)"
   ]
  },
  {
   "cell_type": "code",
   "execution_count": 28,
   "metadata": {},
   "outputs": [
    {
     "output_type": "stream",
     "name": "stdout",
     "text": "[\"hey there wat are you dooing aren't you , there ,\"]\n"
    }
   ],
   "source": [
    "filename='Spellchecker/Test.txt'\n",
    "file = open(filename, 'r')\n",
    "print(file.readlines())"
   ]
  },
  {
   "cell_type": "code",
   "execution_count": null,
   "metadata": {},
   "outputs": [],
   "source": []
  }
 ],
 "metadata": {
  "language_info": {
   "codemirror_mode": {
    "name": "ipython",
    "version": 3
   },
   "file_extension": ".py",
   "mimetype": "text/x-python",
   "name": "python",
   "nbconvert_exporter": "python",
   "pygments_lexer": "ipython3",
   "version": "3.6.10-final"
  },
  "orig_nbformat": 2,
  "kernelspec": {
   "name": "python361064bitfc1fc2b22b7a46af971673e48cf69fec",
   "display_name": "Python 3.6.10 64-bit"
  }
 },
 "nbformat": 4,
 "nbformat_minor": 2
}